{
 "cells": [
  {
   "attachments": {},
   "cell_type": "markdown",
   "metadata": {},
   "source": [
    "# Notebook for converting agouti into RavenLite format"
   ]
  },
  {
   "cell_type": "code",
   "execution_count": 1,
   "metadata": {},
   "outputs": [],
   "source": [
    "import pandas as pd\n",
    "import numpy as np\n",
    "import pytz\n",
    "import audioread\n",
    "from datetime import datetime"
   ]
  },
  {
   "cell_type": "code",
   "execution_count": 2,
   "metadata": {},
   "outputs": [],
   "source": [
    "def load_agouti_data(media_filepath, observations_filepath):\n",
    "    \"\"\"\n",
    "    Load in the agouti data, merge the observations and media files and remove duplicates.\n",
    "    \"\"\"\n",
    "    # load in the data\n",
    "    agouti_media = pd.read_csv(media_filepath)\n",
    "    agouti_observations = pd.read_csv(observations_filepath)\n",
    "\n",
    "    # remove duplicates from agouti_media (multiple photos of same instance)\n",
    "    agouti_media = agouti_media.drop_duplicates(subset=['sequenceID'])\n",
    "\n",
    "    agouti = pd.merge(agouti_observations, agouti_media, on=[\n",
    "                      'sequenceID', 'deploymentID', 'timestamp'], suffixes=('_obs', '_media')) \\\n",
    "        .dropna(axis=1, how='all')\n",
    "\n",
    "    # convert timestamp to datetime object\n",
    "    agouti.timestamp = pd.to_datetime(agouti.timestamp)\n",
    "\n",
    "    return agouti"
   ]
  },
  {
   "cell_type": "code",
   "execution_count": 1,
   "metadata": {},
   "outputs": [],
   "source": [
    "from tqdm.notebook import trange, tqdm"
   ]
  },
  {
   "cell_type": "code",
   "execution_count": null,
   "metadata": {},
   "outputs": [],
   "source": []
  }
 ],
 "metadata": {
  "kernelspec": {
   "display_name": "base",
   "language": "python",
   "name": "python3"
  },
  "language_info": {
   "codemirror_mode": {
    "name": "ipython",
    "version": 3
   },
   "file_extension": ".py",
   "mimetype": "text/x-python",
   "name": "python",
   "nbconvert_exporter": "python",
   "pygments_lexer": "ipython3",
   "version": "3.9.16"
  },
  "orig_nbformat": 4
 },
 "nbformat": 4,
 "nbformat_minor": 2
}
