{
 "cells": [
  {
   "attachments": {},
   "cell_type": "markdown",
   "metadata": {},
   "source": [
    "# Methodology section, preparing the data"
   ]
  },
  {
   "attachments": {},
   "cell_type": "markdown",
   "metadata": {},
   "source": [
    "## loading in the data"
   ]
  },
  {
   "cell_type": "code",
   "execution_count": 48,
   "metadata": {},
   "outputs": [],
   "source": [
    "import pandas as pd\n",
    "import numpy as np\n",
    "from mat73 import loadmat"
   ]
  },
  {
   "attachments": {},
   "cell_type": "markdown",
   "metadata": {},
   "source": [
    "### import agouti artis for labelled data linkage"
   ]
  },
  {
   "cell_type": "code",
   "execution_count": 5,
   "metadata": {},
   "outputs": [],
   "source": [
    "# load in the data from artis\n",
    "agouti_media = pd.read_csv(\n",
    "    r'C:\\Users\\gijst\\Documents\\Master Data Science\\Thesis\\artis-20230124120010\\media.csv')\n",
    "agouti_observations = pd.read_csv(\n",
    "    r'C:\\Users\\gijst\\Documents\\Master Data Science\\Thesis\\artis-20230124120010\\observations.csv')\n"
   ]
  },
  {
   "attachments": {},
   "cell_type": "markdown",
   "metadata": {},
   "source": [
    "### Now we merge the two dataframes on sequenceID and deploymentID"
   ]
  },
  {
   "cell_type": "code",
   "execution_count": 34,
   "metadata": {},
   "outputs": [],
   "source": [
    "# remove duplicates from agouti_media (multiple photos of same instance)\n",
    "\n",
    "agouti_media_nodup = agouti_media.drop_duplicates(subset=['sequenceID'])"
   ]
  },
  {
   "cell_type": "code",
   "execution_count": 41,
   "metadata": {},
   "outputs": [],
   "source": [
    "agouti = pd.merge(agouti_observations, agouti_media_nodup, on=[\n",
    "                  'sequenceID', 'deploymentID', 'timestamp'], suffixes=('_obs', '_media'))\n"
   ]
  },
  {
   "cell_type": "code",
   "execution_count": 44,
   "metadata": {},
   "outputs": [],
   "source": [
    "agouti = agouti.dropna(axis=1)"
   ]
  },
  {
   "cell_type": "code",
   "execution_count": 45,
   "metadata": {},
   "outputs": [
    {
     "data": {
      "text/plain": [
       "Index(['observationID', 'deploymentID', 'sequenceID', 'timestamp',\n",
       "       'observationType', 'cameraSetup', 'count', 'classificationMethod',\n",
       "       'classifiedBy', 'classificationTimestamp', 'mediaID_media',\n",
       "       'captureMethod', 'filePath', 'fileName', 'fileMediatype'],\n",
       "      dtype='object')"
      ]
     },
     "execution_count": 45,
     "metadata": {},
     "output_type": "execute_result"
    }
   ],
   "source": [
    "agouti.columns"
   ]
  },
  {
   "cell_type": "code",
   "execution_count": 49,
   "metadata": {},
   "outputs": [
    {
     "name": "stderr",
     "output_type": "stream",
     "text": [
      "ERROR:root:ERROR: MATLAB type not supported: table, (uint32)\n"
     ]
    }
   ],
   "source": [
    "mat = loadmat(r'C:\\Users\\gijst\\Documents\\Master Data Science\\Thesis\\DeepSqueak-master\\Detections\\artis_16_audio1_2021-11-11_16-00-00_(0) 2022-12-13  3_45 PM.mat')\n"
   ]
  },
  {
   "cell_type": "code",
   "execution_count": null,
   "metadata": {},
   "outputs": [],
   "source": []
  }
 ],
 "metadata": {
  "kernelspec": {
   "display_name": "base",
   "language": "python",
   "name": "python3"
  },
  "language_info": {
   "codemirror_mode": {
    "name": "ipython",
    "version": 3
   },
   "file_extension": ".py",
   "mimetype": "text/x-python",
   "name": "python",
   "nbconvert_exporter": "python",
   "pygments_lexer": "ipython3",
   "version": "3.9.13"
  },
  "orig_nbformat": 4
 },
 "nbformat": 4,
 "nbformat_minor": 2
}
